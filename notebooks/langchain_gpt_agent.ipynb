{
 "cells": [
  {
   "cell_type": "code",
   "execution_count": 1,
   "metadata": {},
   "outputs": [
    {
     "name": "stderr",
     "output_type": "stream",
     "text": [
      "/Users/alexmiller/Documents/GitHub/sous-chef-app/.venv/lib/python3.9/site-packages/tqdm/auto.py:21: TqdmWarning: IProgress not found. Please update jupyter and ipywidgets. See https://ipywidgets.readthedocs.io/en/stable/user_install.html\n",
      "  from .autonotebook import tqdm as notebook_tqdm\n"
     ]
    }
   ],
   "source": [
    "\n",
    "import datetime\n",
    "import json\n",
    "import openai\n",
    "import os\n",
    "import pandas as pd\n",
    "import re\n",
    "from tqdm.auto import tqdm\n",
    "from typing import List, Union\n",
    "import zipfile\n",
    "\n",
    "# Langchain imports\n",
    "from langchain.agents import Tool, AgentExecutor, LLMSingleActionAgent, AgentOutputParser\n",
    "from langchain.prompts import BaseChatPromptTemplate, ChatPromptTemplate, PromptTemplate\n",
    "from langchain import SerpAPIWrapper, LLMChain\n",
    "from langchain.schema import AgentAction, AgentFinish, HumanMessage, SystemMessage\n",
    "# LLM wrapper\n",
    "from langchain.chat_models import ChatOpenAI\n",
    "from langchain import OpenAI\n",
    "# Conversational memory\n",
    "from langchain.memory import ConversationBufferWindowMemory\n",
    "# Embeddings and vectorstore\n",
    "from langchain.embeddings.openai import OpenAIEmbeddings\n",
    "from langchain.vectorstores import FAISS"
   ]
  },
  {
   "cell_type": "code",
   "execution_count": 2,
   "metadata": {},
   "outputs": [],
   "source": [
    "import openai\n",
    "import os\n",
    "from dotenv import load_dotenv\n",
    "\n",
    "load_dotenv()\n",
    "openai.api_key = os.getenv('OPENAI_API_KEY')"
   ]
  },
  {
   "cell_type": "code",
   "execution_count": 10,
   "metadata": {},
   "outputs": [],
   "source": [
    "# This is an LLMChain to write a synopsis given a title of a play and the era it is set in.\n",
    "llm = OpenAI(temperature=.7)\n",
    "template = \"\"\"You are a playwright. Given the title of play and the era it is set in, it is your job to write a synopsis for that title.\n",
    "\n",
    "Title: {title}\n",
    "Era: {era}\n",
    "Playwright: This is a synopsis for the above play:\"\"\"\n",
    "prompt_template = PromptTemplate(input_variables=[\"title\", 'era'], template=template)\n",
    "synopsis_chain = LLMChain(llm=llm, prompt=prompt_template, output_key=\"synopsis\")"
   ]
  },
  {
   "cell_type": "code",
   "execution_count": 11,
   "metadata": {},
   "outputs": [],
   "source": [
    "# This is an LLMChain to write a review of a play given a synopsis.\n",
    "llm = OpenAI(temperature=.7)\n",
    "template = \"\"\"You are a play critic from the New York Times. Given the synopsis of play, it is your job to write a review for that play.\n",
    "\n",
    "Play Synopsis:\n",
    "{synopsis}\n",
    "Review from a New York Times play critic of the above play:\"\"\"\n",
    "prompt_template = PromptTemplate(input_variables=[\"synopsis\"], template=template)\n",
    "review_chain = LLMChain(llm=llm, prompt=prompt_template, output_key=\"review\")"
   ]
  },
  {
   "cell_type": "code",
   "execution_count": 12,
   "metadata": {},
   "outputs": [],
   "source": [
    "# This is the overall chain where we run these two chains in sequence.\n",
    "from langchain.chains import SequentialChain\n",
    "overall_chain = SequentialChain(\n",
    "    chains=[synopsis_chain, review_chain],\n",
    "    input_variables=[\"era\", \"title\"],\n",
    "    # Here we return multiple variables\n",
    "    output_variables=[\"synopsis\", \"review\"],\n",
    "    verbose=True)"
   ]
  },
  {
   "cell_type": "code",
   "execution_count": 13,
   "metadata": {},
   "outputs": [
    {
     "name": "stdout",
     "output_type": "stream",
     "text": [
      "\n",
      "\n",
      "\u001b[1m> Entering new SequentialChain chain...\u001b[0m\n",
      "\n",
      "\u001b[1m> Finished chain.\u001b[0m\n"
     ]
    },
    {
     "data": {
      "text/plain": [
       "{'title': 'Tragedy at sunset on the beach',\n",
       " 'era': 'Victorian England',\n",
       " 'synopsis': \"\\n\\nSet in Victorian England, Tragedy at Sunset on the Beach tells the story of a young couple, Jack and Lillian, and their fateful journey to the beach on a fateful summer day. Lillian, an aspiring opera singer, is enamored with the idea of a romantic seaside picnic and persuades Jack to accompany her. \\n\\nWhen they arrive at the beach, they are taken aback by the beauty of the setting sun and the serene atmosphere. However, their joy quickly turns to horror when they realize that a shipwreck has occurred near the shore. In the wreckage, they find the body of a young girl, whose identity is a mystery. \\n\\nJack and Lillian, in a desperate attempt to help, search the shoreline and eventually find a diary belonging to the girl, which reveals her heartbreaking story. She was a young girl from a wealthy family who had been forced into an arranged marriage with an older man. The girl had run away to the beach in an attempt to escape her fate, but tragically drowned in the shipwreck. \\n\\nJack and Lillian's discovery of the girl's diary and the tragedy that had befallen her sets off a chain of events that will change their lives forever. They must\",\n",
       " 'review': '\\n\\nTragedy at Sunset on the Beach is a powerful and moving play that will leave audiences in awe. The story follows Jack and Lillian, a young couple on a romantic seaside picnic, and their discovery of a shipwreck, and of a diary belonging to a young girl who tragically drowned in the wreck. The play is a heartbreaking exploration of themes of love, loss, and the endurance of the human spirit. \\n\\nThe performances of Jack and Lillian, played by actors Samuel Jones and Emily Smith, are captivating and emotionally charged. The playwright, Sarah Jones, has crafted an intricate and nuanced story that is woven with skill and precision. The set design is also stunning, as the audience is transported to the Victorian English seaside, and the lighting provides a dream-like atmosphere that will stay with viewers long after the show is over. \\n\\nTragedy at Sunset on the Beach is a captivating and thought-provoking play that will stay with audiences long after they have left the theatre. It is a must-see for anyone who appreciates a powerful story, excellent performances, and beautiful design.'}"
      ]
     },
     "execution_count": 13,
     "metadata": {},
     "output_type": "execute_result"
    }
   ],
   "source": [
    "overall_chain({\"title\":\"Tragedy at sunset on the beach\", \"era\": \"Victorian England\"})"
   ]
  },
  {
   "cell_type": "code",
   "execution_count": 14,
   "metadata": {},
   "outputs": [
    {
     "name": "stdout",
     "output_type": "stream",
     "text": [
      "\n",
      "\n",
      "\u001b[1m> Entering new SequentialChain chain...\u001b[0m\n",
      "\n",
      "\u001b[1m> Finished chain.\u001b[0m\n"
     ]
    },
    {
     "data": {
      "text/plain": [
       "{'title': 'Tragedy at sunset on the beach',\n",
       " 'era': 'Victorian England',\n",
       " 'time': 'December 25th, 8pm PST',\n",
       " 'location': 'Theater in the Park',\n",
       " 'social_post_text': 'Come experience the captivating story of a young woman in Victorian England, struggling to make the ultimate decision that will define her life! This thought-provoking play is sure to make an impression on its audience and leave them with much to ponder. Catch it at Theater in the Park on December 25th at 8pm PST! #TheaterInThePark #VictorianEngland #ExperienceTheStory'}"
      ]
     },
     "execution_count": 14,
     "metadata": {},
     "output_type": "execute_result"
    }
   ],
   "source": [
    "from langchain.chains import SequentialChain\n",
    "from langchain.memory import SimpleMemory\n",
    "\n",
    "llm = OpenAI(temperature=.7)\n",
    "template = \"\"\"You are a social media manager for a theater company.  Given the title of play, the era it is set in, \n",
    "              the date,time and location, the synopsis of the play, and the review of the play, it is your job to write a social media post for that play.\n",
    "\n",
    "Here is some context about the time and location of the play:\n",
    "Date and Time: {time}\n",
    "Location: {location}\n",
    "\n",
    "Play Synopsis:\n",
    "{synopsis}\n",
    "Review from a New York Times play critic of the above play:\n",
    "{review}\n",
    "\n",
    "Social Media Post:\n",
    "\"\"\"\n",
    "prompt_template = PromptTemplate(input_variables=[\"synopsis\", \"review\", \"time\", \"location\"], template=template)\n",
    "social_chain = LLMChain(llm=llm, prompt=prompt_template, output_key=\"social_post_text\")\n",
    "\n",
    "overall_chain = SequentialChain(\n",
    "    memory=SimpleMemory(memories={\"time\": \"December 25th, 8pm PST\", \"location\": \"Theater in the Park\"}),\n",
    "    chains=[synopsis_chain, review_chain, social_chain],\n",
    "    input_variables=[\"era\", \"title\"],\n",
    "    # Here we return multiple variables\n",
    "    output_variables=[\"social_post_text\"],\n",
    "    verbose=True)\n",
    "\n",
    "overall_chain({\"title\":\"Tragedy at sunset on the beach\", \"era\": \"Victorian England\"})"
   ]
  },
  {
   "cell_type": "code",
   "execution_count": 3,
   "metadata": {},
   "outputs": [],
   "source": [
    "# This is an LLMChain to write a synopsis given a title of a play and the era it is set in.\n",
    "llm = OpenAI(temperature=.7)\n",
    "template = \"\"\"You are an executive chef named Sous as in sous chef. Your objective is to be a helpful and knowledgeable AI cooking assistant. \n",
    "              Given ingredients that are provided by the user and the users food preferences, it is your job to recommend a recipe that includes\n",
    "              ingredients and step by step directions. It is okay to recommend ingredients that are not in the meal but make sure to call out new ingredients in the response. \n",
    "              Always start the response with \"Yes Chef!\".\n",
    "\n",
    "Ingredients: {ingredients}\n",
    "Preferences: {preferences}\n",
    "Recipe: This is a recipe based on the ingredients and preferences\"\"\"\n",
    "prompt_template = PromptTemplate(input_variables=[\"ingredients\", 'preferences'], template=template)\n",
    "recipe_chain = LLMChain(llm=llm, prompt=prompt_template, output_key=\"recipe\")"
   ]
  },
  {
   "cell_type": "code",
   "execution_count": 4,
   "metadata": {},
   "outputs": [
    {
     "data": {
      "text/plain": [
       "{'ingredients': 'chicken thighs, white wine, butter, shallots, red peppers',\n",
       " 'preferences': 'Greek, Italian',\n",
       " 'recipe': ' you provided.\\n\\nYes Chef! This Greek-style Italian Chicken Thigh dish is the perfect way to use these ingredients.\\n\\nIngredients:\\n- 4 chicken thighs\\n- 2 tablespoons of butter\\n- 2 tablespoons of olive oil\\n- 2 cloves of garlic, minced\\n- 1 shallot, diced\\n- ½ cup of white wine\\n- 2 red peppers, diced\\n- 2 teaspoons of dried oregano\\n- 1 teaspoon of dried basil\\n- Salt and pepper, to taste\\n\\nInstructions:\\n1. Preheat oven to 375°F.\\n2. In a large skillet over medium heat, melt the butter with the olive oil.\\n3. Add the garlic and shallot, stirring until the shallot is softened, about 3 minutes.\\n4. Add the chicken thighs, season with salt and pepper, and cook for 5 minutes on each side until golden brown.\\n5. Add the white wine and red peppers and stir to combine.\\n6. Add the oregano and basil.\\n7. Transfer the skillet to the preheated oven and cook for 25 minutes, or until chicken is cooked through.\\n8. Serve and enjoy!'}"
      ]
     },
     "execution_count": 4,
     "metadata": {},
     "output_type": "execute_result"
    }
   ],
   "source": [
    "ingredients = 'chicken thighs, white wine, butter, shallots, red peppers'\n",
    "preferences = 'Greek, Italian'\n",
    "recipe_chain({'ingredients': ingredients, 'preferences': preferences})"
   ]
  },
  {
   "cell_type": "code",
   "execution_count": 4,
   "metadata": {},
   "outputs": [],
   "source": [
    "ingredients = 'fettucine pasta, butter, vodka, cream, shrimp, red pepper flakes, paramesan cheese'\n",
    "preferences = 'Shrimp scampi, vodka sauce, spaghetti meatball'\n",
    "recipe_text = recipe_chain({'ingredients': ingredients, 'preferences': preferences})"
   ]
  },
  {
   "cell_type": "code",
   "execution_count": 5,
   "metadata": {},
   "outputs": [
    {
     "data": {
      "text/plain": [
       "' you Yes Chef!Shrimp Scampi with Vodka Sauce and Fettuccine:Ingredients:- 8 ounces of fettuccine pasta- 4 tablespoons of butter- 1/2 cup of vodka- 1/2 cup of heavy cream- 1 pound of shrimp, peeled and deveined- 1/4 teaspoon of red pepper flakes- 1/4 cup of grated parmesan cheeseDirections:1. Bring a large pot of salted water to a boil. Add the fettuccine and cook according to package directions.2. In a large skillet, melt the butter over medium heat. Add the shrimp and cook until pink and done, about 3-5 minutes.3. Add the vodka and heavy cream, stirring to combine. Simmer for 2-3 minutes until the sauce has thickened.4. Add the red pepper flakes and parmesan cheese. Stir to combine.5. Drain the pasta and add it to the sauce. Toss to coat.6. Serve with additional parmesan cheese, if desired. Enjoy!'"
      ]
     },
     "execution_count": 5,
     "metadata": {},
     "output_type": "execute_result"
    }
   ],
   "source": [
    "recipe_text['recipe'].replace('provided.', '').replace('\\n', '').replace(' given.', '')"
   ]
  }
 ],
 "metadata": {
  "kernelspec": {
   "display_name": ".venv",
   "language": "python",
   "name": "python3"
  },
  "language_info": {
   "codemirror_mode": {
    "name": "ipython",
    "version": 3
   },
   "file_extension": ".py",
   "mimetype": "text/x-python",
   "name": "python",
   "nbconvert_exporter": "python",
   "pygments_lexer": "ipython3",
   "version": "3.9.16"
  },
  "orig_nbformat": 4
 },
 "nbformat": 4,
 "nbformat_minor": 2
}
